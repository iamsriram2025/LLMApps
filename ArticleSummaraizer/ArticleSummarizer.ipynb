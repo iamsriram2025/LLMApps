{
 "cells": [
  {
   "cell_type": "code",
   "execution_count": 19,
   "id": "70582de5-1234-45ba-aea7-5691423800b3",
   "metadata": {},
   "outputs": [],
   "source": [
    "#imports\n",
    "import os\n",
    "import requests\n",
    "from dotenv import load_dotenv\n",
    "from bs4 import BeautifulSoup\n",
    "from IPython.display import display\n",
    "from rich.markdown import Markdown\n",
    "from openai import OpenAI\n"
   ]
  },
  {
   "cell_type": "code",
   "execution_count": 5,
   "id": "0fe6e2dd-baec-4bf3-9394-e9632fee2d80",
   "metadata": {},
   "outputs": [
    {
     "name": "stdout",
     "output_type": "stream",
     "text": [
      "API key found and looks good so far!\n"
     ]
    }
   ],
   "source": [
    "#Connect to OpenAI using OpenAI API\n",
    "\n",
    "load_dotenv()\n",
    "api_key = os.getenv(\"OPENAI_API_KEY\")\n",
    "\n",
    "# Check the key\n",
    "\n",
    "if not api_key:\n",
    "    print(\"No API key was found - please head over to the troubleshooting notebook in this folder to identify & fix!\")\n",
    "elif not api_key.startswith(\"sk-proj-\"):\n",
    "    print(\"An API key was found, but it doesn't start sk-proj-; please check you're using the right key - see troubleshooting notebook\")\n",
    "elif api_key.strip() != api_key:\n",
    "    print(\"An API key was found, but it looks like it might have space or tab characters at the start or end - please remove them - see troubleshooting notebook\")\n",
    "else:\n",
    "    print(\"API key found and looks good so far!\")\n",
    "    "
   ]
  },
  {
   "cell_type": "code",
   "execution_count": 6,
   "id": "5cda9439-1046-4c7c-abe9-f54cc472b468",
   "metadata": {},
   "outputs": [],
   "source": [
    "#Create instance of OpenAI\n",
    "\n",
    "openai = OpenAI()"
   ]
  },
  {
   "cell_type": "code",
   "execution_count": 7,
   "id": "400dffb5-11f1-447b-82c3-47d0bd168935",
   "metadata": {},
   "outputs": [],
   "source": [
    "#Scrap a website for summarizing\n",
    "\n",
    "class Website:\n",
    "    url:str\n",
    "    title:str\n",
    "    text:str\n",
    "\n",
    "    def __init__(self, url):\n",
    "        self.url = url\n",
    "        response = requests.get(url)\n",
    "        soup = BeautifulSoup(response.content, 'html.parser')\n",
    "        self.title = soup.title.string if soup.title else \"No title found\"\n",
    "        for irrelevant in soup.body([\"script\", \"style\", \"img\", \"input\"]):\n",
    "            irrelevant.decompose()\n",
    "\n",
    "        self.text = soup.body.get_text(separator=\"\\n\", strip=True)\n",
    "                                     \n",
    "                                     \n",
    "\n"
   ]
  },
  {
   "cell_type": "code",
   "execution_count": 8,
   "id": "d1170820-2999-497b-ac1a-4f81c1b8c582",
   "metadata": {},
   "outputs": [
    {
     "name": "stdout",
     "output_type": "stream",
     "text": [
      "The Best Technical Blogging Platforms - Draft.dev\n",
      "Why Us?\n",
      "Lead Generation\n",
      "Case Studies\n",
      "Blog\n",
      "Content Playbook\n",
      "Company\n",
      "Book Discovery Call\n",
      "The Best Technical Blogging Platforms\n",
      "June 29, 2024\n",
      "•\n",
      "karl\n",
      "One of the first decisions any\n",
      "developer marketing team\n",
      "needs to make is\n",
      "which technical blogging platform and content management system to use\n",
      ". There are a lot of viable options, from well-known public platforms like Medium to specialized tools like Jekyll. You could even get your engineering team to build your own in-house platform on a headless CMS.\n",
      "This question comes up a lot in\n",
      "calls with clients\n",
      ", so I wanted to round up some of the best writing platforms for running your technical blog, and share a little bit about why you might choose each of them. Note that we’ve also written detailed tutorials and comparisons for many of these, so be sure to check out the articles linked in each section.\n",
      "Medium\n",
      "One of the most popular blog platforms for developers out there is\n",
      "Medium\n",
      ". People often choose it because of the built-in distribution that receives millions of unique monthly visitors. The more eyeballs on your online blog platform, the better, right? Medium’s audience tends to skew towards articles relating to technology, startups, and all business topics, so that makes it very compelling for software engineering blogs.\n",
      "Another positive that Medium presents is its Domain Authority (DA).\n",
      "DA gives us a statistical measure\n",
      "of how well your site will rank in search engines. Medium’s high DA means that you’ll be getting a lot of traffic organically because articles on Medium will likely be indexed and ranked faster than those on a brand new website. Finally, Medium allows  readers to add  comments and “claps” – basically “likes” – to each post, showing how popular each piece is.\n",
      "The big drawback to Medium (and similar platforms like\n",
      "Dev.to\n",
      "or\n",
      "Hashnode\n",
      ") is that you don’t have full control over the ads and articles surrounding your content. You also don’t build domain authority on your site, so publishing on Medium alone won’t help your primary domain rank higher in Google.\n",
      "For that reason, I recommend\n",
      "syndicating your content to Medium\n",
      ", but not publishing there exclusively.\n",
      "Gatsby\n",
      "Gatsby\n",
      "is an open source platform that generates blazing fast static sites and includes lots of features for search engine optimization and publication. Gatsby is purpose-built for developers and is based on React.js, making it familiar to many frontend developers.\n",
      "A static site generator (SSG) like Gatsby is a great option for more technical users because the performance is fantastic and there’s no server vulnerabilities to worry about. Gatsby sites don’t have to deal with server requests because everything is pre-rendered when application is built and deployed.\n",
      "Gatsby uses GraphQL to manage data through its vibrant plugin ecosystem. If you use something like\n",
      "Netlify\n",
      "in conjunction with Gatsby, you can easily manage your content with the use of these plugins. Or, you can use their gatsby-image and gatsby-plugin-favicon to easily process and size your images.\n",
      "One of the biggest issues with Gatsby is searching large content libraries. Because there’s no server-side code, you have to do all that processing on the front-end, and that can get really slow if you have a lot of content. Finally, Gatsby takes some technical chops to work with, so it’s not appropriate for non-technical developer marketing teams.\n",
      "If you’re using Gatsby,\n",
      "you might also want to check out our guide to creating Gatsby starters\n",
      ".\n",
      "WordPress\n",
      "Almost everyone has heard of\n",
      "WordPress\n",
      "as it’s probably the most widely-used blogging platform on the internet. The upside to this is that there is a huge ecosystem of plugins and themes to help you get started, but is it the best fit for a technical blog?\n",
      "One that can be a bit confusing is what the difference between WordPress.com and WordPress.org.\n",
      "WordPress.org\n",
      "is where you’ll go if you’re hosting your own site with your own domain name, which I’d typically recommended. While you’ll have to manage your own updates, backups, deployments, and maintenance, you get much more flexibility and ownership of your content.\n",
      "You can use WordPress.com if you don’t want to deal with the technical intricacies of WordPress.org or just want to get started as quickly as possible. If you want plugins, you’ll also have to pay $300 per year for their Business Plan.\n",
      "If you’re interested in getting started developing with WordPress,\n",
      "check out our guide here\n",
      ". And, if you want to\n",
      "compare WordPress to our next platform, Jekyll, check out this post\n",
      ".\n",
      "Jekyll\n",
      "If you aren’t intimidated by HTML, CSS, Markdown, you might want to\n",
      "give Jekyll a shot\n",
      ". Jekyll doesn’t have a user-friendly back end like WordPress does, but if your team are mostly developers, they may be very comfortable with editing markdown files in Github anyway. You can see more of the differences between Jekyll and WordPress\n",
      "in this comparison\n",
      ", but the difference is substantial. Because Jekyll generates a static website (similar to Gatsby), you’ll find that it’s fast and takes very little effort on your end to optimize the user interface.\n",
      "Jekyll uses\n",
      "Liquid\n",
      "and gives you a blank slate when it comes to templates. There will be little built-in code, so you’ll have to rely on Jekyll plugins or writing your own code. But, you can host it for free on GitHub Pages so your costs are basically nil. You’ll never have to worry about losing your content because it’s automatically backed up and stored in GitHub.\n",
      "Finally, Jekyll’s been round for a while now, so there are plenty of fans out there creating free and paid themes as well as helping support the open source tool.\n",
      "Like Gatsby though, the downside to Jekyll is that you’ll need to be at least somewhat technical to use it and maintain it.\n",
      "Hugo\n",
      "Yet another static site generator to consider is Hugo. It can go toe-to-toe with Jekyll and the two are\n",
      "generally compared against each other in reviews\n",
      ". The main advantage that you’ll find it has over any other SSG is its speed and thriving, active community. Another benefit is that it’s significantly easier to set up, especially when you compare it to Jekyll. As for content, it’s simply stored in text files within your project.\n",
      "Hugo also supports a variety of formats\n",
      ", from Markdown to HTML or Asciidoc. Though it’s a bit of a newbie on the scene, there are still a variety of themes available thanks to its community of users. If you’re a beginner, you might find the template engine confusing. Also, there aren’t any extensions so you won’t have plugin support. Despite those issues, it’s still a very strong contender.\n",
      "Ghost\n",
      "Ghost has been around\n",
      "for quite some time but it’s not as well known as some of the others on this list.\n",
      "Ghost is written in Node.js and relies on a minimal user interface. If all you’re looking for is a simple blogging platform, this one might be for you. Many people give a lot of praise for their live blog previewing which makes editing or writing code easier than some of the other platforms.\n",
      "Ghost requires web hosting or one of its paid plans to deploy to the public. It uses Markdown, like many tech blogging platforms, and allows you to customize your themes to fit anything your heart desires.\n",
      "The biggest downside, besides needing technical expertise to use and deploy is that there isn’t a free hosted plan. But its simplicity and growing feature-set is enticing.\n",
      "Final Thoughts\n",
      "The landscape of technical blogging platforms continues to improve and change every year, so I’d love to hear from you if you have any feedback on these platforms (or others). Reach out to us or\n",
      "find me on X\n",
      "to continue the conversation.\n",
      "If you’ve enjoyed this, don’t miss our other\n",
      "Best Technical Blogs\n",
      "lists:\n",
      "The Best Software Development Blogs\n",
      "The Best Engineering Blogs\n",
      "The Best DevOps Blogs\n",
      "Best SaaS Marketing Blogs\n",
      "The Best Technical Writing Blogs\n",
      "Best Cybersecurity Blogs\n",
      "Best Data Science, Machine Learning, and AI Blogs\n",
      "Best Crypto and Cryptocurrency Blogs\n",
      "The Best Ruby Blogs\n",
      "The Best JavaScript Blogs\n",
      "The Best PHP Blogs\n",
      "The Best Golang Blogs for Learning Golang\n",
      "The Best C# Blogs\n",
      "The Best Computer Science Blogs\n",
      "Best Product Management Blogs\n",
      "The Best Python Blogs\n"
     ]
    }
   ],
   "source": [
    "site = Website(\"https://draft.dev/learn/technical-blog-platforms\")\n",
    "print(site.title)\n",
    "print(site.text)"
   ]
  },
  {
   "cell_type": "code",
   "execution_count": 9,
   "id": "1a5ad3cf-3444-4231-b79e-457ab7d53f87",
   "metadata": {},
   "outputs": [],
   "source": [
    "#prompt\n",
    "\n",
    "system_prompt = \"You are an assistant that analyzes the content of a website \\\n",
    "and proivde a short summary, ignoring that might be navigation related \\\n",
    "Respond in markdown\""
   ]
  },
  {
   "cell_type": "code",
   "execution_count": 10,
   "id": "1761eeb9-4a17-424f-954b-eb5d6bf39266",
   "metadata": {},
   "outputs": [],
   "source": [
    "def user_prompt_for(website):\n",
    "    user_prompt = f\" You are looking at a website titled {website.title}\"\n",
    "    user_prompt += \"\\n The contents of this website is as follows; \\\n",
    "please provide a short summary of this website in markdown. \\\n",
    "If it includes news or announcements, then summarize these too.\\n\\n\"\n",
    "    user_prompt += website.text\n",
    "    return user_prompt"
   ]
  },
  {
   "cell_type": "code",
   "execution_count": 11,
   "id": "423d60eb-41aa-4e49-952b-4b8f4856fcd6",
   "metadata": {},
   "outputs": [
    {
     "data": {
      "text/plain": [
       "'You are an assistant that analyzes the content of a website and proivde a short summary, ignoring that might be navigation related Respond in markdown'"
      ]
     },
     "execution_count": 11,
     "metadata": {},
     "output_type": "execute_result"
    }
   ],
   "source": [
    "system_prompt"
   ]
  },
  {
   "cell_type": "code",
   "execution_count": 12,
   "id": "6d43d3b7-e039-485e-a3cb-7284cacc3200",
   "metadata": {},
   "outputs": [
    {
     "data": {
      "text/plain": [
       "' You are looking at a website titled The Best Technical Blogging Platforms - Draft.dev\\n The contents of this website is as follows; please provide a short summary of this website in markdown. If it includes news or announcements, then summarize these too.\\n\\nWhy Us?\\nLead Generation\\nCase Studies\\nBlog\\nContent Playbook\\nCompany\\nBook Discovery Call\\nThe Best Technical Blogging Platforms\\nJune 29, 2024\\n•\\nkarl\\nOne of the first decisions any\\ndeveloper marketing team\\nneeds to make is\\nwhich technical blogging platform and content management system to use\\n. There are a lot of viable options, from well-known public platforms like Medium to specialized tools like Jekyll. You could even get your engineering team to build your own in-house platform on a headless CMS.\\nThis question comes up a lot in\\ncalls with clients\\n, so I wanted to round up some of the best writing platforms for running your technical blog, and share a little bit about why you might choose each of them. Note that we’ve also written detailed tutorials and comparisons for many of these, so be sure to check out the articles linked in each section.\\nMedium\\nOne of the most popular blog platforms for developers out there is\\nMedium\\n. People often choose it because of the built-in distribution that receives millions of unique monthly visitors. The more eyeballs on your online blog platform, the better, right? Medium’s audience tends to skew towards articles relating to technology, startups, and all business topics, so that makes it very compelling for software engineering blogs.\\nAnother positive that Medium presents is its Domain Authority (DA).\\nDA gives us a statistical measure\\nof how well your site will rank in search engines. Medium’s high DA means that you’ll be getting a lot of traffic organically because articles on Medium will likely be indexed and ranked faster than those on a brand new website. Finally, Medium allows\\xa0 readers to add\\xa0 comments and “claps” – basically “likes” – to each post, showing how popular each piece is.\\nThe big drawback to Medium (and similar platforms like\\nDev.to\\nor\\nHashnode\\n) is that you don’t have full control over the ads and articles surrounding your content. You also don’t build domain authority on your site, so publishing on Medium alone won’t help your primary domain rank higher in Google.\\nFor that reason, I recommend\\nsyndicating your content to Medium\\n, but not publishing there exclusively.\\nGatsby\\nGatsby\\nis an open source platform that generates blazing fast static sites and includes lots of features for search engine optimization and publication. Gatsby is purpose-built for developers and is based on React.js, making it familiar to many frontend developers.\\nA static site generator (SSG) like Gatsby is a great option for more technical users because the performance is fantastic and there’s no server vulnerabilities to worry about. Gatsby sites don’t have to deal with server requests because everything is pre-rendered when application is built and deployed.\\nGatsby uses GraphQL to manage data through its vibrant plugin ecosystem. If you use something like\\nNetlify\\nin conjunction with Gatsby, you can easily manage your content with the use of these plugins. Or, you can use their gatsby-image and gatsby-plugin-favicon to easily process and size your images.\\nOne of the biggest issues with Gatsby is searching large content libraries. Because there’s no server-side code, you have to do all that processing on the front-end, and that can get really slow if you have a lot of content. Finally, Gatsby takes some technical chops to work with, so it’s not appropriate for non-technical developer marketing teams.\\nIf you’re using Gatsby,\\nyou might also want to check out our guide to creating Gatsby starters\\n.\\nWordPress\\nAlmost everyone has heard of\\nWordPress\\nas it’s probably the most widely-used blogging platform on the internet. The upside to this is that there is a huge ecosystem of plugins and themes to help you get started, but is it the best fit for a technical blog?\\nOne that can be a bit confusing is what the difference between WordPress.com and WordPress.org.\\nWordPress.org\\nis where you’ll go if you’re hosting your own site with your own domain name, which I’d typically recommended. While you’ll have to manage your own updates, backups, deployments, and maintenance, you get much more flexibility and ownership of your content.\\nYou can use WordPress.com if you don’t want to deal with the technical intricacies of WordPress.org or just want to get started as quickly as possible. If you want plugins, you’ll also have to pay $300 per year for their Business Plan.\\nIf you’re interested in getting started developing with WordPress,\\ncheck out our guide here\\n. And, if you want to\\ncompare WordPress to our next platform, Jekyll, check out this post\\n.\\nJekyll\\nIf you aren’t intimidated by HTML, CSS, Markdown, you might want to\\ngive Jekyll a shot\\n. Jekyll doesn’t have a user-friendly back end like WordPress does, but if your team are mostly developers, they may be very comfortable with editing markdown files in Github anyway. You can see more of the differences between Jekyll and WordPress\\nin this comparison\\n, but the difference is substantial. Because Jekyll generates a static website (similar to Gatsby), you’ll find that it’s fast and takes very little effort on your end to optimize the user interface.\\nJekyll uses\\nLiquid\\nand gives you a blank slate when it comes to templates. There will be little built-in code, so you’ll have to rely on Jekyll plugins or writing your own code. But, you can host it for free on GitHub Pages so your costs are basically nil. You’ll never have to worry about losing your content because it’s automatically backed up and stored in GitHub.\\nFinally, Jekyll’s been round for a while now, so there are plenty of fans out there creating free and paid themes as well as helping support the open source tool.\\nLike Gatsby though, the downside to Jekyll is that you’ll need to be at least somewhat technical to use it and maintain it.\\nHugo\\nYet another static site generator to consider is Hugo. It can go toe-to-toe with Jekyll and the two are\\ngenerally compared against each other in reviews\\n. The main advantage that you’ll find it has over any other SSG is its speed and thriving, active community. Another benefit is that it’s significantly easier to set up, especially when you compare it to Jekyll. As for content, it’s simply stored in text files within your project.\\nHugo also supports a variety of formats\\n, from Markdown to HTML or Asciidoc. Though it’s a bit of a newbie on the scene, there are still a variety of themes available thanks to its community of users. If you’re a beginner, you might find the template engine confusing. Also, there aren’t any extensions so you won’t have plugin support. Despite those issues, it’s still a very strong contender.\\nGhost\\nGhost has been around\\nfor quite some time but it’s not as well known as some of the others on this list.\\nGhost is written in Node.js and relies on a minimal user interface. If all you’re looking for is a simple blogging platform, this one might be for you. Many people give a lot of praise for their live blog previewing which makes editing or writing code easier than some of the other platforms.\\nGhost requires web hosting or one of its paid plans to deploy to the public. It uses Markdown, like many tech blogging platforms, and allows you to customize your themes to fit anything your heart desires.\\nThe biggest downside, besides needing technical expertise to use and deploy is that there isn’t a free hosted plan. But its simplicity and growing feature-set is enticing.\\nFinal Thoughts\\nThe landscape of technical blogging platforms continues to improve and change every year, so I’d love to hear from you if you have any feedback on these platforms (or others). Reach out to us or\\nfind me on X\\nto continue the conversation.\\nIf you’ve enjoyed this, don’t miss our other\\nBest Technical Blogs\\nlists:\\nThe Best Software Development Blogs\\nThe Best Engineering Blogs\\nThe Best DevOps Blogs\\nBest SaaS Marketing Blogs\\nThe Best Technical Writing Blogs\\nBest Cybersecurity Blogs\\nBest Data Science, Machine Learning, and AI Blogs\\nBest Crypto and Cryptocurrency Blogs\\nThe Best Ruby Blogs\\nThe Best JavaScript Blogs\\nThe Best PHP Blogs\\nThe Best Golang Blogs for Learning Golang\\nThe Best C# Blogs\\nThe Best Computer Science Blogs\\nBest Product Management Blogs\\nThe Best Python Blogs'"
      ]
     },
     "execution_count": 12,
     "metadata": {},
     "output_type": "execute_result"
    }
   ],
   "source": [
    "user_prompt_for(site)"
   ]
  },
  {
   "cell_type": "code",
   "execution_count": 21,
   "id": "3fead4ee-cc15-4ef8-967a-242a05b8d506",
   "metadata": {},
   "outputs": [
    {
     "name": "stdout",
     "output_type": "stream",
     "text": [
      "You are looking at a website titled The Best Technical Blogging Platforms - Draft.dev\n",
      "The contents of this website is as follows; please provide a short summary of this website in markdown. If it includes news or announcements, then summarize these too.\n",
      "\n",
      "Why Us?\n",
      "Lead Generation\n",
      "Case Studies\n",
      "Blog\n",
      "Content Playbook\n",
      "Company\n",
      "Book Discovery Call\n",
      "The Best Technical Blogging Platforms\n",
      "June 29, 2024\n",
      "•\n",
      "karl\n",
      "One of the first decisions any\n",
      "developer marketing team\n",
      "needs to make is\n",
      "which technical blogging platform and content management system to use\n",
      ". There are a lot of viable options, from well-known public platforms like Medium to specialized tools like Jekyll. You could even get your engineering team to build your own in-house platform on a headless CMS.\n",
      "This question comes up a lot in\n",
      "calls with clients\n",
      ", so I wanted to round up some of the best writing platforms for running your technical blog, and share a little bit about why you might choose each of them. Note that we’ve also written detailed tutorials and comparisons for many of these, so be sure to check out the articles linked in each section.\n",
      "Medium\n",
      "One of the most popular blog platforms for developers out there is\n",
      "Medium\n",
      ". People often choose it because of the built-in distribution that receives millions of unique monthly visitors. The more eyeballs on your online blog platform, the better, right? Medium’s audience tends to skew towards articles relating to technology, startups, and all business topics, so that makes it very compelling for software engineering blogs.\n",
      "Another positive that Medium presents is its Domain Authority (DA).\n",
      "DA gives us a statistical measure\n",
      "of how well your site will rank in search engines. Medium’s high DA means that you’ll be getting a lot of traffic organically because articles on Medium will likely be indexed and ranked faster than those on a brand new website. Finally, Medium allows  readers to add  comments and “claps” – basically “likes” – to each post, showing how popular each piece is.\n",
      "The big drawback to Medium (and similar platforms like\n",
      "Dev.to\n",
      "or\n",
      "Hashnode\n",
      ") is that you don’t have full control over the ads and articles surrounding your content. You also don’t build domain authority on your site, so publishing on Medium alone won’t help your primary domain rank higher in Google.\n",
      "For that reason, I recommend\n",
      "syndicating your content to Medium\n",
      ", but not publishing there exclusively.\n",
      "Gatsby\n",
      "Gatsby\n",
      "is an open source platform that generates blazing fast static sites and includes lots of features for search engine optimization and publication. Gatsby is purpose-built for developers and is based on React.js, making it familiar to many frontend developers.\n",
      "A static site generator (SSG) like Gatsby is a great option for more technical users because the performance is fantastic and there’s no server vulnerabilities to worry about. Gatsby sites don’t have to deal with server requests because everything is pre-rendered when application is built and deployed.\n",
      "Gatsby uses GraphQL to manage data through its vibrant plugin ecosystem. If you use something like\n",
      "Netlify\n",
      "in conjunction with Gatsby, you can easily manage your content with the use of these plugins. Or, you can use their gatsby-image and gatsby-plugin-favicon to easily process and size your images.\n",
      "One of the biggest issues with Gatsby is searching large content libraries. Because there’s no server-side code, you have to do all that processing on the front-end, and that can get really slow if you have a lot of content. Finally, Gatsby takes some technical chops to work with, so it’s not appropriate for non-technical developer marketing teams.\n",
      "If you’re using Gatsby,\n",
      "you might also want to check out our guide to creating Gatsby starters\n",
      ".\n",
      "WordPress\n",
      "Almost everyone has heard of\n",
      "WordPress\n",
      "as it’s probably the most widely-used blogging platform on the internet. The upside to this is that there is a huge ecosystem of plugins and themes to help you get started, but is it the best fit for a technical blog?\n",
      "One that can be a bit confusing is what the difference between WordPress.com and WordPress.org.\n",
      "WordPress.org\n",
      "is where you’ll go if you’re hosting your own site with your own domain name, which I’d typically recommended. While you’ll have to manage your own updates, backups, deployments, and maintenance, you get much more flexibility and ownership of your content.\n",
      "You can use WordPress.com if you don’t want to deal with the technical intricacies of WordPress.org or just want to get started as quickly as possible. If you want plugins, you’ll also have to pay $300 per year for their Business Plan.\n",
      "If you’re interested in getting started developing with WordPress,\n",
      "check out our guide here\n",
      ". And, if you want to\n",
      "compare WordPress to our next platform, Jekyll, check out this post\n",
      ".\n",
      "Jekyll\n",
      "If you aren’t intimidated by HTML, CSS, Markdown, you might want to\n",
      "give Jekyll a shot\n",
      ". Jekyll doesn’t have a user-friendly back end like WordPress does, but if your team are mostly developers, they may be very comfortable with editing markdown files in Github anyway. You can see more of the differences between Jekyll and WordPress\n",
      "in this comparison\n",
      ", but the difference is substantial. Because Jekyll generates a static website (similar to Gatsby), you’ll find that it’s fast and takes very little effort on your end to optimize the user interface.\n",
      "Jekyll uses\n",
      "Liquid\n",
      "and gives you a blank slate when it comes to templates. There will be little built-in code, so you’ll have to rely on Jekyll plugins or writing your own code. But, you can host it for free on GitHub Pages so your costs are basically nil. You’ll never have to worry about losing your content because it’s automatically backed up and stored in GitHub.\n",
      "Finally, Jekyll’s been round for a while now, so there are plenty of fans out there creating free and paid themes as well as helping support the open source tool.\n",
      "Like Gatsby though, the downside to Jekyll is that you’ll need to be at least somewhat technical to use it and maintain it.\n",
      "Hugo\n",
      "Yet another static site generator to consider is Hugo. It can go toe-to-toe with Jekyll and the two are\n",
      "generally compared against each other in reviews\n",
      ". The main advantage that you’ll find it has over any other SSG is its speed and thriving, active community. Another benefit is that it’s significantly easier to set up, especially when you compare it to Jekyll. As for content, it’s simply stored in text files within your project.\n",
      "Hugo also supports a variety of formats\n",
      ", from Markdown to HTML or Asciidoc. Though it’s a bit of a newbie on the scene, there are still a variety of themes available thanks to its community of users. If you’re a beginner, you might find the template engine confusing. Also, there aren’t any extensions so you won’t have plugin support. Despite those issues, it’s still a very strong contender.\n",
      "Ghost\n",
      "Ghost has been around\n",
      "for quite some time but it’s not as well known as some of the others on this list.\n",
      "Ghost is written in Node.js and relies on a minimal user interface. If all you’re looking for is a simple blogging platform, this one might be for you. Many people give a lot of praise for their live blog previewing which makes editing or writing code easier than some of the other platforms.\n",
      "Ghost requires web hosting or one of its paid plans to deploy to the public. It uses Markdown, like many tech blogging platforms, and allows you to customize your themes to fit anything your heart desires.\n",
      "The biggest downside, besides needing technical expertise to use and deploy is that there isn’t a free hosted plan. But its simplicity and growing feature-set is enticing.\n",
      "Final Thoughts\n",
      "The landscape of technical blogging platforms continues to improve and change every year, so I’d love to hear from you if you have any feedback on these platforms (or others). Reach out to us or\n",
      "find me on X\n",
      "to continue the conversation.\n",
      "If you’ve enjoyed this, don’t miss our other\n",
      "Best Technical Blogs\n",
      "lists:\n",
      "The Best Software Development Blogs\n",
      "The Best Engineering Blogs\n",
      "The Best DevOps Blogs\n",
      "Best SaaS Marketing Blogs\n",
      "The Best Technical Writing Blogs\n",
      "Best Cybersecurity Blogs\n",
      "Best Data Science, Machine Learning, and AI Blogs\n",
      "Best Crypto and Cryptocurrency Blogs\n",
      "The Best Ruby Blogs\n",
      "The Best JavaScript Blogs\n",
      "The Best PHP Blogs\n",
      "The Best Golang Blogs for Learning Golang\n",
      "The Best C# Blogs\n",
      "The Best Computer Science Blogs\n",
      "Best Product Management Blogs\n",
      "The Best Python Blogs\n"
     ]
    }
   ],
   "source": [
    "print(user_prompt_for(site))\n"
   ]
  },
  {
   "cell_type": "code",
   "execution_count": 13,
   "id": "85f5ce78-e17b-4c6a-8bfc-66abf80cb938",
   "metadata": {},
   "outputs": [],
   "source": [
    "def messages_for(website):\n",
    "    return [\n",
    "        {\"role\": \"system\", \"content\": system_prompt},\n",
    "        {\"role\": \"user\", \"content\": user_prompt_for(website)}\n",
    "    ]"
   ]
  },
  {
   "cell_type": "code",
   "execution_count": 14,
   "id": "3c855ffe-e608-4f08-8287-571d49335fa9",
   "metadata": {},
   "outputs": [
    {
     "data": {
      "text/plain": [
       "[{'role': 'system',\n",
       "  'content': 'You are an assistant that analyzes the content of a website and proivde a short summary, ignoring that might be navigation related Respond in markdown'},\n",
       " {'role': 'user',\n",
       "  'content': ' You are looking at a website titled The Best Technical Blogging Platforms - Draft.dev\\n The contents of this website is as follows; please provide a short summary of this website in markdown. If it includes news or announcements, then summarize these too.\\n\\nWhy Us?\\nLead Generation\\nCase Studies\\nBlog\\nContent Playbook\\nCompany\\nBook Discovery Call\\nThe Best Technical Blogging Platforms\\nJune 29, 2024\\n•\\nkarl\\nOne of the first decisions any\\ndeveloper marketing team\\nneeds to make is\\nwhich technical blogging platform and content management system to use\\n. There are a lot of viable options, from well-known public platforms like Medium to specialized tools like Jekyll. You could even get your engineering team to build your own in-house platform on a headless CMS.\\nThis question comes up a lot in\\ncalls with clients\\n, so I wanted to round up some of the best writing platforms for running your technical blog, and share a little bit about why you might choose each of them. Note that we’ve also written detailed tutorials and comparisons for many of these, so be sure to check out the articles linked in each section.\\nMedium\\nOne of the most popular blog platforms for developers out there is\\nMedium\\n. People often choose it because of the built-in distribution that receives millions of unique monthly visitors. The more eyeballs on your online blog platform, the better, right? Medium’s audience tends to skew towards articles relating to technology, startups, and all business topics, so that makes it very compelling for software engineering blogs.\\nAnother positive that Medium presents is its Domain Authority (DA).\\nDA gives us a statistical measure\\nof how well your site will rank in search engines. Medium’s high DA means that you’ll be getting a lot of traffic organically because articles on Medium will likely be indexed and ranked faster than those on a brand new website. Finally, Medium allows\\xa0 readers to add\\xa0 comments and “claps” – basically “likes” – to each post, showing how popular each piece is.\\nThe big drawback to Medium (and similar platforms like\\nDev.to\\nor\\nHashnode\\n) is that you don’t have full control over the ads and articles surrounding your content. You also don’t build domain authority on your site, so publishing on Medium alone won’t help your primary domain rank higher in Google.\\nFor that reason, I recommend\\nsyndicating your content to Medium\\n, but not publishing there exclusively.\\nGatsby\\nGatsby\\nis an open source platform that generates blazing fast static sites and includes lots of features for search engine optimization and publication. Gatsby is purpose-built for developers and is based on React.js, making it familiar to many frontend developers.\\nA static site generator (SSG) like Gatsby is a great option for more technical users because the performance is fantastic and there’s no server vulnerabilities to worry about. Gatsby sites don’t have to deal with server requests because everything is pre-rendered when application is built and deployed.\\nGatsby uses GraphQL to manage data through its vibrant plugin ecosystem. If you use something like\\nNetlify\\nin conjunction with Gatsby, you can easily manage your content with the use of these plugins. Or, you can use their gatsby-image and gatsby-plugin-favicon to easily process and size your images.\\nOne of the biggest issues with Gatsby is searching large content libraries. Because there’s no server-side code, you have to do all that processing on the front-end, and that can get really slow if you have a lot of content. Finally, Gatsby takes some technical chops to work with, so it’s not appropriate for non-technical developer marketing teams.\\nIf you’re using Gatsby,\\nyou might also want to check out our guide to creating Gatsby starters\\n.\\nWordPress\\nAlmost everyone has heard of\\nWordPress\\nas it’s probably the most widely-used blogging platform on the internet. The upside to this is that there is a huge ecosystem of plugins and themes to help you get started, but is it the best fit for a technical blog?\\nOne that can be a bit confusing is what the difference between WordPress.com and WordPress.org.\\nWordPress.org\\nis where you’ll go if you’re hosting your own site with your own domain name, which I’d typically recommended. While you’ll have to manage your own updates, backups, deployments, and maintenance, you get much more flexibility and ownership of your content.\\nYou can use WordPress.com if you don’t want to deal with the technical intricacies of WordPress.org or just want to get started as quickly as possible. If you want plugins, you’ll also have to pay $300 per year for their Business Plan.\\nIf you’re interested in getting started developing with WordPress,\\ncheck out our guide here\\n. And, if you want to\\ncompare WordPress to our next platform, Jekyll, check out this post\\n.\\nJekyll\\nIf you aren’t intimidated by HTML, CSS, Markdown, you might want to\\ngive Jekyll a shot\\n. Jekyll doesn’t have a user-friendly back end like WordPress does, but if your team are mostly developers, they may be very comfortable with editing markdown files in Github anyway. You can see more of the differences between Jekyll and WordPress\\nin this comparison\\n, but the difference is substantial. Because Jekyll generates a static website (similar to Gatsby), you’ll find that it’s fast and takes very little effort on your end to optimize the user interface.\\nJekyll uses\\nLiquid\\nand gives you a blank slate when it comes to templates. There will be little built-in code, so you’ll have to rely on Jekyll plugins or writing your own code. But, you can host it for free on GitHub Pages so your costs are basically nil. You’ll never have to worry about losing your content because it’s automatically backed up and stored in GitHub.\\nFinally, Jekyll’s been round for a while now, so there are plenty of fans out there creating free and paid themes as well as helping support the open source tool.\\nLike Gatsby though, the downside to Jekyll is that you’ll need to be at least somewhat technical to use it and maintain it.\\nHugo\\nYet another static site generator to consider is Hugo. It can go toe-to-toe with Jekyll and the two are\\ngenerally compared against each other in reviews\\n. The main advantage that you’ll find it has over any other SSG is its speed and thriving, active community. Another benefit is that it’s significantly easier to set up, especially when you compare it to Jekyll. As for content, it’s simply stored in text files within your project.\\nHugo also supports a variety of formats\\n, from Markdown to HTML or Asciidoc. Though it’s a bit of a newbie on the scene, there are still a variety of themes available thanks to its community of users. If you’re a beginner, you might find the template engine confusing. Also, there aren’t any extensions so you won’t have plugin support. Despite those issues, it’s still a very strong contender.\\nGhost\\nGhost has been around\\nfor quite some time but it’s not as well known as some of the others on this list.\\nGhost is written in Node.js and relies on a minimal user interface. If all you’re looking for is a simple blogging platform, this one might be for you. Many people give a lot of praise for their live blog previewing which makes editing or writing code easier than some of the other platforms.\\nGhost requires web hosting or one of its paid plans to deploy to the public. It uses Markdown, like many tech blogging platforms, and allows you to customize your themes to fit anything your heart desires.\\nThe biggest downside, besides needing technical expertise to use and deploy is that there isn’t a free hosted plan. But its simplicity and growing feature-set is enticing.\\nFinal Thoughts\\nThe landscape of technical blogging platforms continues to improve and change every year, so I’d love to hear from you if you have any feedback on these platforms (or others). Reach out to us or\\nfind me on X\\nto continue the conversation.\\nIf you’ve enjoyed this, don’t miss our other\\nBest Technical Blogs\\nlists:\\nThe Best Software Development Blogs\\nThe Best Engineering Blogs\\nThe Best DevOps Blogs\\nBest SaaS Marketing Blogs\\nThe Best Technical Writing Blogs\\nBest Cybersecurity Blogs\\nBest Data Science, Machine Learning, and AI Blogs\\nBest Crypto and Cryptocurrency Blogs\\nThe Best Ruby Blogs\\nThe Best JavaScript Blogs\\nThe Best PHP Blogs\\nThe Best Golang Blogs for Learning Golang\\nThe Best C# Blogs\\nThe Best Computer Science Blogs\\nBest Product Management Blogs\\nThe Best Python Blogs'}]"
      ]
     },
     "execution_count": 14,
     "metadata": {},
     "output_type": "execute_result"
    }
   ],
   "source": [
    "messages_for(site)"
   ]
  },
  {
   "cell_type": "code",
   "execution_count": 15,
   "id": "680eec5e-e50a-44e9-b097-4de10da564cf",
   "metadata": {},
   "outputs": [],
   "source": [
    "def summarize(url):\n",
    "    website = Website(url)\n",
    "    response = openai.chat.completions.create(\n",
    "        model = \"gpt-4o-mini\",\n",
    "        messages = messages_for(website)\n",
    "    )\n",
    "    return response.choices[0].message.content"
   ]
  },
  {
   "cell_type": "code",
   "execution_count": 16,
   "id": "3838a370-e9b4-4065-a586-e4cc63af11b7",
   "metadata": {},
   "outputs": [
    {
     "data": {
      "text/plain": [
       "'# Summary of \"The Best Technical Blogging Platforms - Draft.dev\"\\n\\nDraft.dev provides an overview of various technical blogging platforms suitable for developer marketing teams. The article outlines prominent options such as:\\n\\n- **Medium**: Popular for its built-in audience and high domain authority, although it lacks control over ads and content management.\\n  \\n- **Gatsby**: A static site generator for developers using React.js, offering performance and SEO benefits, but requires technical skills for setup and content management.\\n\\n- **WordPress**: The most widely used platform, offering flexibility and a variety of plugins but can be complex for self-hosting.\\n\\n- **Jekyll**: A static site generator ideal for developers comfortable with Markdown on GitHub, but has a steeper learning curve.\\n\\n- **Hugo**: Another static site generator, known for speed and ease of setup, though it lacks plugin support.\\n\\n- **Ghost**: A minimalistic, Node.js-based platform for simple blogging, but requires technical expertise and doesn\\'t offer a free hosted plan.\\n\\nThe website concludes by inviting feedback from users about these platforms and provides links to additional resources for technical blogging and related topics.'"
      ]
     },
     "execution_count": 16,
     "metadata": {},
     "output_type": "execute_result"
    }
   ],
   "source": [
    "summarize(\"https://draft.dev/learn/technical-blog-platforms\")"
   ]
  },
  {
   "cell_type": "code",
   "execution_count": 20,
   "id": "5bfc10f3-f0ad-47e8-a409-96bbbf696281",
   "metadata": {},
   "outputs": [],
   "source": [
    "def display_summary(url):\n",
    "    summary = summarize(url)\n",
    "    display(Markdown(summary))"
   ]
  },
  {
   "cell_type": "code",
   "execution_count": 23,
   "id": "3316c0d0-997d-41f7-8556-846b78b77c96",
   "metadata": {},
   "outputs": [
    {
     "data": {
      "text/html": [
       "<pre style=\"white-space:pre;overflow-x:auto;line-height:normal;font-family:Menlo,'DejaVu Sans Mono',consolas,'Courier New',monospace\">┏━━━━━━━━━━━━━━━━━━━━━━━━━━━━━━━━━━━━━━━━━━━━━━━━━━━━━━━━━━━━━━━━━━━━━━━━━━━━━━━━━━━━━━━━━━━━━━━━━━━━━━━━━━━━━━━━━┓\n",
       "┃                          <span style=\"font-weight: bold\">Summary of The Best Technical Blogging Platforms - Draft.dev</span>                           ┃\n",
       "┗━━━━━━━━━━━━━━━━━━━━━━━━━━━━━━━━━━━━━━━━━━━━━━━━━━━━━━━━━━━━━━━━━━━━━━━━━━━━━━━━━━━━━━━━━━━━━━━━━━━━━━━━━━━━━━━━━┛\n",
       "\n",
       "The website provides an overview of various technical blogging platforms, offering recommendations tailored for    \n",
       "developer marketing teams. It highlights the strengths and weaknesses of each platform to help users choose the    \n",
       "right solution for their technical blog.                                                                           \n",
       "\n",
       "\n",
       "                                                <span style=\"font-weight: bold; text-decoration: underline\">Featured Platforms</span>                                                 \n",
       "\n",
       "<span style=\"color: #808000; text-decoration-color: #808000; font-weight: bold\"> 1 </span><span style=\"font-weight: bold\">Medium</span>                                                                                                          \n",
       "<span style=\"color: #808000; text-decoration-color: #808000; font-weight: bold\">    • </span>Popular for its built-in distribution and high domain authority.                                             \n",
       "<span style=\"color: #808000; text-decoration-color: #808000; font-weight: bold\">    • </span>Recommended for syndication rather than exclusive use due to lack of control over ads and domain authority.  \n",
       "<span style=\"color: #808000; text-decoration-color: #808000; font-weight: bold\"> 2 </span><span style=\"font-weight: bold\">Gatsby</span>                                                                                                          \n",
       "<span style=\"color: #808000; text-decoration-color: #808000; font-weight: bold\">    • </span>An open-source static site generator focused on speed and SEO.                                               \n",
       "<span style=\"color: #808000; text-decoration-color: #808000; font-weight: bold\">    • </span>Requires technical knowledge, as it’s based on React.js and has some limitations in content searching.       \n",
       "<span style=\"color: #808000; text-decoration-color: #808000; font-weight: bold\"> 3 </span><span style=\"font-weight: bold\">WordPress</span>                                                                                                       \n",
       "<span style=\"color: #808000; text-decoration-color: #808000; font-weight: bold\">    • </span>The most widely used blogging platform with a large plugin ecosystem.                                        \n",
       "<span style=\"color: #808000; text-decoration-color: #808000; font-weight: bold\">    • </span>Differentiates between self-hosted (WordPress.org) and hosted (WordPress.com), with a preference for         \n",
       "<span style=\"color: #808000; text-decoration-color: #808000; font-weight: bold\">      </span>self-hosting for greater control.                                                                            \n",
       "<span style=\"color: #808000; text-decoration-color: #808000; font-weight: bold\"> 4 </span><span style=\"font-weight: bold\">Jekyll</span>                                                                                                          \n",
       "<span style=\"color: #808000; text-decoration-color: #808000; font-weight: bold\">    • </span>A static site generator ideal for developers comfortable with HTML, CSS, and Markdown.                       \n",
       "<span style=\"color: #808000; text-decoration-color: #808000; font-weight: bold\">    • </span>Offers free hosting via GitHub Pages, but requires technical skills to maintain.                             \n",
       "<span style=\"color: #808000; text-decoration-color: #808000; font-weight: bold\"> 5 </span><span style=\"font-weight: bold\">Hugo</span>                                                                                                            \n",
       "<span style=\"color: #808000; text-decoration-color: #808000; font-weight: bold\">    • </span>Another fast static site generator with an active community.                                                 \n",
       "<span style=\"color: #808000; text-decoration-color: #808000; font-weight: bold\">    • </span>Easier to set up than Jekyll but lacks plugin support.                                                       \n",
       "<span style=\"color: #808000; text-decoration-color: #808000; font-weight: bold\"> 6 </span><span style=\"font-weight: bold\">Ghost</span>                                                                                                           \n",
       "<span style=\"color: #808000; text-decoration-color: #808000; font-weight: bold\">    • </span>A simple blogging platform focused on Markdown and custom themes.                                            \n",
       "<span style=\"color: #808000; text-decoration-color: #808000; font-weight: bold\">    • </span>Requires web hosting or paid plans but offers live blog previewing features.                                 \n",
       "\n",
       "\n",
       "                                                  <span style=\"font-weight: bold; text-decoration: underline\">Final Thoughts</span>                                                   \n",
       "\n",
       "The author emphasizes the evolving landscape of blogging platforms in the technical sphere and encourages feedback \n",
       "from users. The site also links to other lists of notable technical blogs across various categories.               \n",
       "\n",
       "Overall, the content is designed to guide developers and marketing teams in selecting appropriate blogging         \n",
       "platforms based on their needs and technical expertise.                                                            \n",
       "</pre>\n"
      ],
      "text/plain": [
       "┏━━━━━━━━━━━━━━━━━━━━━━━━━━━━━━━━━━━━━━━━━━━━━━━━━━━━━━━━━━━━━━━━━━━━━━━━━━━━━━━━━━━━━━━━━━━━━━━━━━━━━━━━━━━━━━━━━┓\n",
       "┃                          \u001b[1mSummary of The Best Technical Blogging Platforms - Draft.dev\u001b[0m                           ┃\n",
       "┗━━━━━━━━━━━━━━━━━━━━━━━━━━━━━━━━━━━━━━━━━━━━━━━━━━━━━━━━━━━━━━━━━━━━━━━━━━━━━━━━━━━━━━━━━━━━━━━━━━━━━━━━━━━━━━━━━┛\n",
       "\n",
       "The website provides an overview of various technical blogging platforms, offering recommendations tailored for    \n",
       "developer marketing teams. It highlights the strengths and weaknesses of each platform to help users choose the    \n",
       "right solution for their technical blog.                                                                           \n",
       "\n",
       "\n",
       "                                                \u001b[1;4mFeatured Platforms\u001b[0m                                                 \n",
       "\n",
       "\u001b[1;33m 1 \u001b[0m\u001b[1mMedium\u001b[0m                                                                                                          \n",
       "\u001b[1;33m   \u001b[0m\u001b[1;33m • \u001b[0mPopular for its built-in distribution and high domain authority.                                             \n",
       "\u001b[1;33m   \u001b[0m\u001b[1;33m • \u001b[0mRecommended for syndication rather than exclusive use due to lack of control over ads and domain authority.  \n",
       "\u001b[1;33m 2 \u001b[0m\u001b[1mGatsby\u001b[0m                                                                                                          \n",
       "\u001b[1;33m   \u001b[0m\u001b[1;33m • \u001b[0mAn open-source static site generator focused on speed and SEO.                                               \n",
       "\u001b[1;33m   \u001b[0m\u001b[1;33m • \u001b[0mRequires technical knowledge, as it’s based on React.js and has some limitations in content searching.       \n",
       "\u001b[1;33m 3 \u001b[0m\u001b[1mWordPress\u001b[0m                                                                                                       \n",
       "\u001b[1;33m   \u001b[0m\u001b[1;33m • \u001b[0mThe most widely used blogging platform with a large plugin ecosystem.                                        \n",
       "\u001b[1;33m   \u001b[0m\u001b[1;33m • \u001b[0mDifferentiates between self-hosted (WordPress.org) and hosted (WordPress.com), with a preference for         \n",
       "\u001b[1;33m   \u001b[0m\u001b[1;33m   \u001b[0mself-hosting for greater control.                                                                            \n",
       "\u001b[1;33m 4 \u001b[0m\u001b[1mJekyll\u001b[0m                                                                                                          \n",
       "\u001b[1;33m   \u001b[0m\u001b[1;33m • \u001b[0mA static site generator ideal for developers comfortable with HTML, CSS, and Markdown.                       \n",
       "\u001b[1;33m   \u001b[0m\u001b[1;33m • \u001b[0mOffers free hosting via GitHub Pages, but requires technical skills to maintain.                             \n",
       "\u001b[1;33m 5 \u001b[0m\u001b[1mHugo\u001b[0m                                                                                                            \n",
       "\u001b[1;33m   \u001b[0m\u001b[1;33m • \u001b[0mAnother fast static site generator with an active community.                                                 \n",
       "\u001b[1;33m   \u001b[0m\u001b[1;33m • \u001b[0mEasier to set up than Jekyll but lacks plugin support.                                                       \n",
       "\u001b[1;33m 6 \u001b[0m\u001b[1mGhost\u001b[0m                                                                                                           \n",
       "\u001b[1;33m   \u001b[0m\u001b[1;33m • \u001b[0mA simple blogging platform focused on Markdown and custom themes.                                            \n",
       "\u001b[1;33m   \u001b[0m\u001b[1;33m • \u001b[0mRequires web hosting or paid plans but offers live blog previewing features.                                 \n",
       "\n",
       "\n",
       "                                                  \u001b[1;4mFinal Thoughts\u001b[0m                                                   \n",
       "\n",
       "The author emphasizes the evolving landscape of blogging platforms in the technical sphere and encourages feedback \n",
       "from users. The site also links to other lists of notable technical blogs across various categories.               \n",
       "\n",
       "Overall, the content is designed to guide developers and marketing teams in selecting appropriate blogging         \n",
       "platforms based on their needs and technical expertise.                                                            \n"
      ]
     },
     "metadata": {},
     "output_type": "display_data"
    }
   ],
   "source": [
    "display_summary(\"https://draft.dev/learn/technical-blog-platforms\")\n"
   ]
  },
  {
   "cell_type": "code",
   "execution_count": null,
   "id": "79ef2740-3095-4738-91b1-6ae9a4ad5c9f",
   "metadata": {},
   "outputs": [],
   "source": []
  },
  {
   "cell_type": "code",
   "execution_count": null,
   "id": "fa244f6e-076e-4970-ae47-2b519cddcd19",
   "metadata": {},
   "outputs": [],
   "source": []
  }
 ],
 "metadata": {
  "kernelspec": {
   "display_name": "Python 3 (ipykernel)",
   "language": "python",
   "name": "python3"
  },
  "language_info": {
   "codemirror_mode": {
    "name": "ipython",
    "version": 3
   },
   "file_extension": ".py",
   "mimetype": "text/x-python",
   "name": "python",
   "nbconvert_exporter": "python",
   "pygments_lexer": "ipython3",
   "version": "3.11.11"
  }
 },
 "nbformat": 4,
 "nbformat_minor": 5
}
